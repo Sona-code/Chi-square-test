{
 "cells": [
  {
   "cell_type": "code",
   "execution_count": 1,
   "metadata": {},
   "outputs": [],
   "source": [
    "import numpy as np\n",
    "import pandas as pd\n",
    "import matplotlib.pyplot as plt \n",
    "import seaborn as sns"
   ]
  },
  {
   "cell_type": "code",
   "execution_count": 2,
   "metadata": {},
   "outputs": [],
   "source": [
    "df = pd.read_csv('cleaned_zomato.csv')"
   ]
  },
  {
   "cell_type": "code",
   "execution_count": 3,
   "metadata": {},
   "outputs": [],
   "source": [
    "df.dropna(subset=['name'], inplace=True)\n",
    "df['location'] = df['location'].fillna(df['location'].mode()[0])\n",
    "df['rest_type'] = df['rest_type'].fillna(df['rest_type'].mode()[0])"
   ]
  },
  {
   "cell_type": "code",
   "execution_count": 4,
   "metadata": {},
   "outputs": [
    {
     "data": {
      "text/plain": [
       "name             0\n",
       "location         0\n",
       "online_order     0\n",
       "book_table       0\n",
       "cuisines         0\n",
       "rate             0\n",
       "costof2plates    0\n",
       "type_mode        0\n",
       "rest_type        0\n",
       "votes            0\n",
       "dtype: int64"
      ]
     },
     "execution_count": 4,
     "metadata": {},
     "output_type": "execute_result"
    }
   ],
   "source": [
    "df.isnull().sum()"
   ]
  },
  {
   "cell_type": "code",
   "execution_count": 5,
   "metadata": {},
   "outputs": [
    {
     "data": {
      "text/html": [
       "<div>\n",
       "<style scoped>\n",
       "    .dataframe tbody tr th:only-of-type {\n",
       "        vertical-align: middle;\n",
       "    }\n",
       "\n",
       "    .dataframe tbody tr th {\n",
       "        vertical-align: top;\n",
       "    }\n",
       "\n",
       "    .dataframe thead th {\n",
       "        text-align: right;\n",
       "    }\n",
       "</style>\n",
       "<table border=\"1\" class=\"dataframe\">\n",
       "  <thead>\n",
       "    <tr style=\"text-align: right;\">\n",
       "      <th></th>\n",
       "      <th>name</th>\n",
       "      <th>location</th>\n",
       "      <th>online_order</th>\n",
       "      <th>book_table</th>\n",
       "      <th>cuisines</th>\n",
       "      <th>rate</th>\n",
       "      <th>costof2plates</th>\n",
       "      <th>type_mode</th>\n",
       "      <th>rest_type</th>\n",
       "      <th>votes</th>\n",
       "    </tr>\n",
       "  </thead>\n",
       "  <tbody>\n",
       "    <tr>\n",
       "      <th>0</th>\n",
       "      <td>Jalsa</td>\n",
       "      <td>Banashankari</td>\n",
       "      <td>Yes</td>\n",
       "      <td>Yes</td>\n",
       "      <td>North Indian Mughlai Chinese</td>\n",
       "      <td>4.1</td>\n",
       "      <td>800.0</td>\n",
       "      <td>Buffet</td>\n",
       "      <td>Casual Dining</td>\n",
       "      <td>775.0</td>\n",
       "    </tr>\n",
       "    <tr>\n",
       "      <th>1</th>\n",
       "      <td>Spice Elephant</td>\n",
       "      <td>Banashankari</td>\n",
       "      <td>Yes</td>\n",
       "      <td>No</td>\n",
       "      <td>others</td>\n",
       "      <td>4.1</td>\n",
       "      <td>800.0</td>\n",
       "      <td>Buffet</td>\n",
       "      <td>Casual Dining</td>\n",
       "      <td>787.0</td>\n",
       "    </tr>\n",
       "    <tr>\n",
       "      <th>2</th>\n",
       "      <td>San Churro Cafe</td>\n",
       "      <td>Banashankari</td>\n",
       "      <td>Yes</td>\n",
       "      <td>No</td>\n",
       "      <td>others</td>\n",
       "      <td>3.8</td>\n",
       "      <td>800.0</td>\n",
       "      <td>Buffet</td>\n",
       "      <td>Cafe, Casual Dining</td>\n",
       "      <td>918.0</td>\n",
       "    </tr>\n",
       "    <tr>\n",
       "      <th>3</th>\n",
       "      <td>Addhuri Udupi Bhojana</td>\n",
       "      <td>Banashankari</td>\n",
       "      <td>No</td>\n",
       "      <td>No</td>\n",
       "      <td>South Indian North Indian</td>\n",
       "      <td>3.7</td>\n",
       "      <td>300.0</td>\n",
       "      <td>Buffet</td>\n",
       "      <td>Quick Bites</td>\n",
       "      <td>88.0</td>\n",
       "    </tr>\n",
       "    <tr>\n",
       "      <th>4</th>\n",
       "      <td>Grand Village</td>\n",
       "      <td>Basavanagudi</td>\n",
       "      <td>No</td>\n",
       "      <td>No</td>\n",
       "      <td>others</td>\n",
       "      <td>3.8</td>\n",
       "      <td>600.0</td>\n",
       "      <td>Buffet</td>\n",
       "      <td>Casual Dining</td>\n",
       "      <td>166.0</td>\n",
       "    </tr>\n",
       "  </tbody>\n",
       "</table>\n",
       "</div>"
      ],
      "text/plain": [
       "                    name      location online_order book_table  \\\n",
       "0                  Jalsa  Banashankari          Yes        Yes   \n",
       "1         Spice Elephant  Banashankari          Yes         No   \n",
       "2        San Churro Cafe  Banashankari          Yes         No   \n",
       "3  Addhuri Udupi Bhojana  Banashankari           No         No   \n",
       "4          Grand Village  Basavanagudi           No         No   \n",
       "\n",
       "                       cuisines  rate  costof2plates type_mode  \\\n",
       "0  North Indian Mughlai Chinese   4.1          800.0    Buffet   \n",
       "1                        others   4.1          800.0    Buffet   \n",
       "2                        others   3.8          800.0    Buffet   \n",
       "3     South Indian North Indian   3.7          300.0    Buffet   \n",
       "4                        others   3.8          600.0    Buffet   \n",
       "\n",
       "             rest_type  votes  \n",
       "0        Casual Dining  775.0  \n",
       "1        Casual Dining  787.0  \n",
       "2  Cafe, Casual Dining  918.0  \n",
       "3          Quick Bites   88.0  \n",
       "4        Casual Dining  166.0  "
      ]
     },
     "execution_count": 5,
     "metadata": {},
     "output_type": "execute_result"
    }
   ],
   "source": [
    "df.head()"
   ]
  },
  {
   "cell_type": "markdown",
   "metadata": {},
   "source": [
    "# SCENIO\n",
    "##### now lets a scenio, now a customer has to open a restaurant, and he asking one of the data analyst a asolution for this. So, as a data analyst we have to give him a location where he can open a restaurant. "
   ]
  },
  {
   "cell_type": "markdown",
   "metadata": {},
   "source": [
    "# univariant analysis"
   ]
  },
  {
   "cell_type": "code",
   "execution_count": null,
   "metadata": {},
   "outputs": [],
   "source": []
  },
  {
   "cell_type": "code",
   "execution_count": 6,
   "metadata": {},
   "outputs": [
    {
     "data": {
      "text/plain": [
       "(array([ 0,  1,  2,  3,  4,  5,  6,  7,  8,  9, 10, 11, 12, 13, 14, 15, 16,\n",
       "        17, 18, 19, 20, 21, 22, 23, 24, 25, 26, 27, 28, 29, 30, 31, 32, 33,\n",
       "        34, 35, 36, 37, 38, 39, 40, 41, 42, 43, 44, 45, 46, 47, 48, 49, 50,\n",
       "        51, 52, 53, 54, 55, 56, 57, 58, 59, 60, 61, 62, 63, 64, 65, 66, 67,\n",
       "        68, 69]),\n",
       " <a list of 70 Text major ticklabel objects>)"
      ]
     },
     "execution_count": 6,
     "metadata": {},
     "output_type": "execute_result"
    },
    {
     "data": {
      "image/png": "[encoded data removed]",
      "text/plain": [
       "<Figure size 1152x720 with 1 Axes>"
      ]
     },
     "metadata": {
      "needs_background": "light"
     },
     "output_type": "display_data"
    }
   ],
   "source": [
    "# lets analyze location column\n",
    "plt.figure(figsize=(16,10))\n",
    "ax = sns.countplot(df['location'])\n",
    "plt.xticks(rotation=90)"
   ]
  },
  {
   "cell_type": "markdown",
   "metadata": {},
   "source": [
    "insight: by viewing the graph i got to known that if a customer has to open a restaurant he should not open a restaurant at BTM\n",
    "because BTM has already more restaturant, he might face a loss in his business"
   ]
  },
  {
   "cell_type": "code",
   "execution_count": 7,
   "metadata": {
    "scrolled": true
   },
   "outputs": [
    {
     "data": {
      "text/plain": [
       "<matplotlib.axes._subplots.AxesSubplot at 0x1e95d527100>"
      ]
     },
     "execution_count": 7,
     "metadata": {},
     "output_type": "execute_result"
    },
    {
     "data": {
      "image/png": "[encoded data removed]",
      "text/plain": [
       "<Figure size 720x360 with 2 Axes>"
      ]
     },
     "metadata": {
      "needs_background": "light"
     },
     "output_type": "display_data"
    }
   ],
   "source": [
    "# lets analyze location column\n",
    "fig, axes = plt.subplots(1, 2, figsize=(10, 5))\n",
    "\n",
    "sns.countplot(df['online_order'], ax = axes[0])\n",
    "\n",
    "\n",
    "sns.countplot(df['book_table'], ax = axes[1])\n"
   ]
  },
  {
   "cell_type": "code",
   "execution_count": 8,
   "metadata": {},
   "outputs": [],
   "source": [
    "# online_order is on more demand as compared to physical visiting restaurant, and only few has booked the table. \n",
    "# yes, this is true, as people choose online_order, booking table becomes less.  "
   ]
  },
  {
   "cell_type": "code",
   "execution_count": 45,
   "metadata": {},
   "outputs": [
    {
     "ename": "TypeError",
     "evalue": "'int' object is not subscriptable",
     "output_type": "error",
     "traceback": [
      "\u001b[1;31m---------------------------------------------------------------------------\u001b[0m",
      "\u001b[1;31mTypeError\u001b[0m                                 Traceback (most recent call last)",
      "\u001b[1;32m<ipython-input-45-85642aff241e>\u001b[0m in \u001b[0;36m<module>\u001b[1;34m\u001b[0m\n\u001b[1;32m----> 1\u001b[1;33m \u001b[0mchi\u001b[0m \u001b[1;33m=\u001b[0m \u001b[0mdf\u001b[0m\u001b[1;33m[\u001b[0m\u001b[1;33m[\u001b[0m\u001b[1;34m'online_order'\u001b[0m\u001b[1;33m,\u001b[0m\u001b[1;34m'book_table'\u001b[0m\u001b[1;33m]\u001b[0m\u001b[1;33m]\u001b[0m\u001b[1;33m\u001b[0m\u001b[1;33m\u001b[0m\u001b[0m\n\u001b[0m",
      "\u001b[1;31mTypeError\u001b[0m: 'int' object is not subscriptable"
     ]
    }
   ],
   "source": [
    "chi = df[['online_order','book_table']]"
   ]
  },
  {
   "cell_type": "code",
   "execution_count": 12,
   "metadata": {},
   "outputs": [],
   "source": [
    "from scipy.stats import chi2_contingency"
   ]
  },
  {
   "cell_type": "code",
   "execution_count": 42,
   "metadata": {},
   "outputs": [
    {
     "name": "stdout",
     "output_type": "stream",
     "text": [
      "<scipy.stats._continuous_distns.chi2_gen object at 0x000001E95B0593D0> 0.0 4 [[10114.8294608  15101.71014677   808.46039243]\n",
      " [ 1765.28551051  2635.61834723   141.09614226]\n",
      " [  380.88502869   568.67150601    30.44346531]]\n"
     ]
    }
   ],
   "source": []
  },
  {
   "cell_type": "code",
   "execution_count": 14,
   "metadata": {
    "scrolled": true
   },
   "outputs": [
    {
     "name": "stdout",
     "output_type": "stream",
     "text": [
      "online_order     No    Yes  others\n",
      "book_table                        \n",
      "No            10272  15753       0\n",
      "Yes            1989   2553       0\n",
      "others            0      0     980\n"
     ]
    }
   ],
   "source": [
    "df_association = pd.crosstab(df['book_table'], df['online_order'])\n",
    "print(df_association)"
   ]
  },
  {
   "cell_type": "code",
   "execution_count": 15,
   "metadata": {},
   "outputs": [
    {
     "name": "stdout",
     "output_type": "stream",
     "text": [
      "observed values:-\n",
      " [[10272 15753     0]\n",
      " [ 1989  2553     0]\n",
      " [    0     0   980]]\n"
     ]
    }
   ],
   "source": [
    "# observed values\n",
    "observed_values = df_association.values\n",
    "print('observed values:-\\n', observed_values)"
   ]
  },
  {
   "cell_type": "code",
   "execution_count": 30,
   "metadata": {},
   "outputs": [],
   "source": [
    "\n",
    "val = stats.chi2_contingency(df_association)"
   ]
  },
  {
   "cell_type": "code",
   "execution_count": 31,
   "metadata": {},
   "outputs": [
    {
     "data": {
      "text/plain": [
       "(31578.028001690207,\n",
       " 0.0,\n",
       " 4,\n",
       " array([[10114.8294608 , 15101.71014677,   808.46039243],\n",
       "        [ 1765.28551051,  2635.61834723,   141.09614226],\n",
       "        [  380.88502869,   568.67150601,    30.44346531]]))"
      ]
     },
     "execution_count": 31,
     "metadata": {},
     "output_type": "execute_result"
    }
   ],
   "source": [
    "val"
   ]
  },
  {
   "cell_type": "code",
   "execution_count": 32,
   "metadata": {},
   "outputs": [
    {
     "data": {
      "text/plain": [
       "array([[10114.8294608 , 15101.71014677,   808.46039243],\n",
       "       [ 1765.28551051,  2635.61834723,   141.09614226],\n",
       "       [  380.88502869,   568.67150601,    30.44346531]])"
      ]
     },
     "execution_count": 32,
     "metadata": {},
     "output_type": "execute_result"
    }
   ],
   "source": [
    "expected_val = val[3]\n",
    "expected_val"
   ]
  },
  {
   "cell_type": "code",
   "execution_count": 33,
   "metadata": {},
   "outputs": [
    {
     "name": "stdout",
     "output_type": "stream",
     "text": [
      "degree of freedom =  1\n"
     ]
    }
   ],
   "source": [
    "# to calculate df(degree of freedom)\n",
    "no_rows = len(df_association.iloc[0:2,0])\n",
    "no_columns = len(df_association.iloc[0,0:2])\n",
    "df = (no_rows-1)*(no_columns-1)\n",
    "print('degree of freedom = ', df)\n",
    "alpha = 0.05"
   ]
  },
  {
   "cell_type": "code",
   "execution_count": 34,
   "metadata": {},
   "outputs": [
    {
     "data": {
      "text/plain": [
       "1011.0280016902077"
      ]
     },
     "execution_count": 34,
     "metadata": {},
     "output_type": "execute_result"
    }
   ],
   "source": [
    "chi_square = sum([(o-e)**2./e for o,e in zip(observed_values,expected_val)])\n",
    "# this returns two values, row sum and have to add those values\n",
    "chi_square_statistics = chi_square[0] + chi_square[1]\n",
    "chi_square_statistics"
   ]
  },
  {
   "cell_type": "code",
   "execution_count": 35,
   "metadata": {},
   "outputs": [
    {
     "name": "stdout",
     "output_type": "stream",
     "text": [
      "3.841458820694124\n"
     ]
    }
   ],
   "source": [
    "# critical value nothing but tabular value(which we see in table chart)\n",
    "# for this we need q value and degree of freedom\n",
    "\n",
    "critical_value = chi2.ppf(q=1-alpha,df=df)\n",
    "print(critical_value)"
   ]
  },
  {
   "cell_type": "code",
   "execution_count": 40,
   "metadata": {},
   "outputs": [
    {
     "name": "stdout",
     "output_type": "stream",
     "text": [
      "p_value =  0.0\n",
      "significance level =  0.05\n",
      "degree of freedom = 1\n"
     ]
    }
   ],
   "source": [
    "# p value \n",
    "\n",
    "p_value = 1-chi2.cdf(x = chi_square_statistics, df = df)\n",
    "print('p_value = ', p_value)\n",
    "print('significance level = ', alpha)\n",
    "print('degree of freedom =', df )\n"
   ]
  },
  {
   "cell_type": "code",
   "execution_count": 41,
   "metadata": {},
   "outputs": [
    {
     "name": "stdout",
     "output_type": "stream",
     "text": [
      "we reject null hypothesis\n"
     ]
    }
   ],
   "source": [
    "if chi_square_statistics >= critical_value: \n",
    "    print(\"we reject null hypothesis\")\n",
    "else:\n",
    "    print(\"we accept null hypothesis\")\n",
    "    \n"
   ]
  },
  {
   "cell_type": "code",
   "execution_count": null,
   "metadata": {},
   "outputs": [],
   "source": [
    "# ho= there is no relation (null hypo)\n",
    "# h1 = there is  relation (alternate hypo)\n",
    "# calculated > critical, we reject null hypo and accept alternate hypo "
   ]
  }
 ],
 "metadata": {
  "kernelspec": {
   "display_name": "Python 3",
   "language": "python",
   "name": "python3"
  },
  "language_info": {
   "codemirror_mode": {
    "name": "ipython",
    "version": 3
   },
   "file_extension": ".py",
   "mimetype": "text/x-python",
   "name": "python",
   "nbconvert_exporter": "python",
   "pygments_lexer": "ipython3",
   "version": "3.8.3"
  }
 },
 "nbformat": 4,
 "nbformat_minor": 4
}
